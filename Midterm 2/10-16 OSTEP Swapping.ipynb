{
 "cells": [
  {
   "cell_type": "markdown",
   "metadata": {},
   "source": [
    "## Optimal Replacement Policy"
   ]
  },
  {
   "cell_type": "markdown",
   "metadata": {},
   "source": [
    "Developed by Belady years ago, replaces pages that will be accessed furthest in the future. The first accesses of a page table is a cold start miss, as there is nothing in the page table, and you thus have to manually write the first few entries. This makes sense, as you evict pages that are less likely to be used in the near future."
   ]
  },
  {
   "cell_type": "markdown",
   "metadata": {},
   "source": [
    "## FIFO"
   ]
  },
  {
   "cell_type": "markdown",
   "metadata": {},
   "source": [
    "Pages are placed in a queue when they enter the system, when a replacement occurs, the first page in is evicted."
   ]
  },
  {
   "cell_type": "markdown",
   "metadata": {},
   "source": [
    "## Random"
   ]
  },
  {
   "cell_type": "markdown",
   "metadata": {},
   "source": [
    "Pick a random page to evict."
   ]
  },
  {
   "cell_type": "markdown",
   "metadata": {},
   "source": [
    "## LRU"
   ]
  },
  {
   "cell_type": "markdown",
   "metadata": {},
   "source": [
    "LRU depends on the least frequently used page, replace the page that has least recently been used. This requires a hardware support with the reference bit. Whenever it is referenced, the use bit is set to 1. It is never cleared by the hardware, that is the responsibility of the OS"
   ]
  },
  {
   "cell_type": "markdown",
   "metadata": {},
   "source": [
    "## Clock Algorithm"
   ]
  },
  {
   "cell_type": "markdown",
   "metadata": {},
   "source": [
    "A clock hand points to a particular page, and it finds the next use bit that is 0, and clears all the use bits it passes through.  \n",
    "One modification is if it has been modified. If it has been modified (i.e. dirty), it must be written back to disk to evict it, which is expensive. If it has not been modified, eviction is free. The Clock algorithm can be modified to scan for both unmodified and unused pages.  \n",
    "OS can use demand paging, in which it brings it into memory when it is accessed.  \n",
    "Thrashing occurs when there is a lot of page faults."
   ]
  }
 ],
 "metadata": {
  "kernelspec": {
   "display_name": "Python 3",
   "language": "python",
   "name": "python3"
  },
  "language_info": {
   "codemirror_mode": {
    "name": "ipython",
    "version": 3
   },
   "file_extension": ".py",
   "mimetype": "text/x-python",
   "name": "python",
   "nbconvert_exporter": "python",
   "pygments_lexer": "ipython3",
   "version": "3.6.3"
  }
 },
 "nbformat": 4,
 "nbformat_minor": 2
}
