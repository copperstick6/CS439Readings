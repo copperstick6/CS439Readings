{
 "cells": [
  {
   "cell_type": "markdown",
   "metadata": {},
   "source": [
    "# Automatic memory management"
   ]
  },
  {
   "cell_type": "markdown",
   "metadata": {},
   "source": [
    "Reduces programmer burden, integral to OOP languages, part of mainstream computing.  \n",
    "Brought about by safe pointers (programs may not access arbitrary addresses, compiler can identify and provide to garbage collector all pointers)"
   ]
  },
  {
   "cell_type": "markdown",
   "metadata": {},
   "source": [
    "Issue with efficiency, identifying garbage is hard and expensive"
   ]
  },
  {
   "cell_type": "markdown",
   "metadata": {},
   "source": [
    "# Garbage collection fundamentals"
   ]
  },
  {
   "cell_type": "markdown",
   "metadata": {},
   "source": [
    "1. Allocation (same as explicit memory management): Free list, bump allocation\n",
    "2. Identification: Tracing (traces pointers to identify what is reachable), reference counting (programmer keeps track of how many objects are using a pointer)\n",
    "3. Reclamation: taking back the heap"
   ]
  },
  {
   "cell_type": "markdown",
   "metadata": {},
   "source": [
    "Garbage is any object that program will never reference. Any object that the program cannot reach is theoretically garbage."
   ]
  },
  {
   "cell_type": "markdown",
   "metadata": {},
   "source": [
    "# Reference counting"
   ]
  },
  {
   "cell_type": "markdown",
   "metadata": {},
   "source": [
    "Count the number of references to each object, if the reference count is zero, the object is garbage, does not work for cycles."
   ]
  },
  {
   "cell_type": "markdown",
   "metadata": {},
   "source": [
    "# Tracing"
   ]
  },
  {
   "cell_type": "markdown",
   "metadata": {},
   "source": [
    "Trace reachability from program roots, marks the objects reachable from the roots. Objects nor marked are unreachable"
   ]
  },
  {
   "cell_type": "markdown",
   "metadata": {},
   "source": [
    "# Garbage collection algorithms"
   ]
  },
  {
   "cell_type": "markdown",
   "metadata": {},
   "source": [
    "Evaluation: space efficiency, efficiency of allocator, time to collect garbage"
   ]
  },
  {
   "cell_type": "markdown",
   "metadata": {},
   "source": [
    "# Reclamation"
   ]
  },
  {
   "cell_type": "markdown",
   "metadata": {},
   "source": [
    "2 broad approaches:\n",
    "1. Non-copying: uses free list allocation and reclamation, only way for explicit memory management\n",
    "2. Copying: generally uses bump pointer allocation, en masse reclamation"
   ]
  },
  {
   "cell_type": "markdown",
   "metadata": {},
   "source": [
    "# Mark Sweep"
   ]
  },
  {
   "cell_type": "markdown",
   "metadata": {},
   "source": [
    "Free lists organized by size.  \n",
    "Allocation: grab a pointer to free space off the free list. No more memory of the right size triggers a collection.  \n",
    "Mark phase: Find the unreachable objects  \n",
    "Sweep phase: put unreachable ones on the free list"
   ]
  },
  {
   "cell_type": "markdown",
   "metadata": {},
   "source": [
    "Good space efficiency and incremental object reclamation, poor allocation time and locality of contemporaneously allocated objects.   \n",
    "Allocator has a slow allocation time, is space efficient, poor locality"
   ]
  },
  {
   "cell_type": "markdown",
   "metadata": {},
   "source": [
    "# Mark Compact"
   ]
  },
  {
   "cell_type": "markdown",
   "metadata": {},
   "source": [
    "Mark compact is similar to mark sweep, except there is one more step: copy all the objects remaining in the heap to one end of the heap. This allows the mark compact to use bump pointer rather than free list."
   ]
  },
  {
   "cell_type": "markdown",
   "metadata": {},
   "source": [
    "Allocator is fast and exhibits good locality (objects are next to each other now), garbage collector is now slower than mark sweep, but is space efficient. Overall performance is worse than mark sweep, but you get the locality advantage."
   ]
  },
  {
   "cell_type": "markdown",
   "metadata": {},
   "source": [
    "# Semi-space"
   ]
  },
  {
   "cell_type": "markdown",
   "metadata": {},
   "source": [
    "Fast bump pointer allocation, requires copying collection, cannot incrementally reclaim memory, must free en masse. Reserves half of the heap to copy into in case all objects are reachable. "
   ]
  },
  {
   "cell_type": "markdown",
   "metadata": {},
   "source": [
    "Originally objects are allocated in the left part of the heap. Once this half has been fully allocated, the trace algorithm is run (traces reachability from root), and all objects are copied into the right side of the heap.  \n",
    "Mark phase copies object when collection first encounters it, installs forwarding pointers, which tells where the object is in case another pointer still points to the old place, performs transitive closuers, so that the right side of the heap has reachable objects only, collects the left side of the heap en masse, starts allocating again on the left side"
   ]
  },
  {
   "cell_type": "markdown",
   "metadata": {},
   "source": [
    "Fast allocation, locality of objects, just wasted space. Best locality, garbage collection is fast as well."
   ]
  },
  {
   "cell_type": "markdown",
   "metadata": {},
   "source": [
    "# One big heap?"
   ]
  },
  {
   "cell_type": "markdown",
   "metadata": {},
   "source": [
    "Takes too long to trace the whole heap, heap contains lots of long lived objects, why collect them over and over, divide up the heap into increments and collect one at a time.  \n",
    "Organize heap into young and old, collect young objects preferetially based on generational hypothesis: young objects die more quickly than older ones.  "
   ]
  },
  {
   "cell_type": "markdown",
   "metadata": {},
   "source": [
    "# Generational Heap"
   ]
  },
  {
   "cell_type": "markdown",
   "metadata": {},
   "source": [
    "Divide heap into two spaces, allocate young space, and when that fills up, collect it and copy into the old space. When the old space fills up, collect both spaces."
   ]
  },
  {
   "cell_type": "markdown",
   "metadata": {},
   "source": [
    "# I/O Interfacing"
   ]
  },
  {
   "cell_type": "markdown",
   "metadata": {},
   "source": [
    "Hardware components communicate using the system bus.  \n",
    "A bus allows the device to communicate with the CPU. A port consists of 4 registers: status (whether the device is busy or ready or error), control (command to perform), data-in (data being sent from the device to the CPU), data-out (data being sent from the CPU to the device), controller that receives commands from the system bus, translates commands, and read/writes data to the system bus, the device itself"
   ]
  },
  {
   "cell_type": "markdown",
   "metadata": {},
   "source": [
    "# Devices"
   ]
  },
  {
   "cell_type": "markdown",
   "metadata": {},
   "source": [
    "Characteristics:\n",
    "1. Transfer unit: character or block\n",
    "2. access method: sequential or random\n",
    "3. Timing: Synchronous/asynchronous\n",
    "4. Shared or dedicated\n",
    "5. Speed\n",
    "6. Operations: Input, output, or both"
   ]
  },
  {
   "cell_type": "markdown",
   "metadata": {},
   "source": [
    "OS usually communicates through controller.  \n",
    "places information in device registers for controller to send to device  \n",
    "controller places informatino from devices in the register for the OS"
   ]
  },
  {
   "cell_type": "markdown",
   "metadata": {},
   "source": [
    "# Polling"
   ]
  },
  {
   "cell_type": "markdown",
   "metadata": {},
   "source": [
    "OS keeps checking until the status of I/O device is idle.  \n",
    "Check rate is polling rate.  \n",
    "OS sets command register  \n",
    "OS sets status to command-ready. \n",
    "Controlller sets status to busy. \n",
    "Controller reads the command register and performs the command, and if it is an input operation, places the value as data-in.  \n",
    "Assuming the operation succeeded, the controller changes status to idle.   \n",
    "OS observes change and reads the data if it is an input operation"
   ]
  },
  {
   "cell_type": "markdown",
   "metadata": {},
   "source": [
    "# Interrupts"
   ]
  },
  {
   "cell_type": "markdown",
   "metadata": {},
   "source": [
    "Rather than having the CPU check if a device is available, have the device interrupt the CPU when I/O is done.  \n",
    "On I/O interrupt, determine which deice caused the interrupt, and retrieve data if it is an input operation, start the next operation"
   ]
  },
  {
   "cell_type": "markdown",
   "metadata": {},
   "source": [
    "# DMA (direct memory access)"
   ]
  },
  {
   "cell_type": "markdown",
   "metadata": {},
   "source": [
    "Device uses a more sophisticated controller that can write to memory.  \n",
    "CPU tells DMA controller lcoation of the source and destination of transfer.   \n",
    "DMA controller operates the bus and interrupts the CPU when entire transfer is complete.   \n",
    "DMA and CPU compete for memory bus, but is still better performance"
   ]
  },
  {
   "cell_type": "markdown",
   "metadata": {},
   "source": [
    "OS provides high level interfaces to devices, standard interfaces provided for related devices, device intricacies encapsulated in device drivers, new devices supported by providing a device driver with device."
   ]
  },
  {
   "cell_type": "markdown",
   "metadata": {},
   "source": [
    "# Putting it together, typical read calls"
   ]
  },
  {
   "cell_type": "markdown",
   "metadata": {},
   "source": [
    "1. User process requests a read from device\n",
    "2. OS checks if data is in buffer, if not, OS tells device driver to perform input, device driver tells DMA controller what to do and blocks itself, DMA controller transfers data, and when it has been complete, interrupts the CPU\n",
    "3. OS transfers data to the user process and places the process in the ready queue\n",
    "4. When the process gets the CPU it begins execution following the system call"
   ]
  }
 ],
 "metadata": {
  "kernelspec": {
   "display_name": "Python 3",
   "language": "python",
   "name": "python3"
  },
  "language_info": {
   "codemirror_mode": {
    "name": "ipython",
    "version": 3
   },
   "file_extension": ".py",
   "mimetype": "text/x-python",
   "name": "python",
   "nbconvert_exporter": "python",
   "pygments_lexer": "ipython3",
   "version": "3.6.3"
  }
 },
 "nbformat": 4,
 "nbformat_minor": 2
}
