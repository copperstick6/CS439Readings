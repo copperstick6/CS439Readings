{
 "cells": [
  {
   "cell_type": "markdown",
   "metadata": {},
   "source": [
    "# File system functionality"
   ]
  },
  {
   "cell_type": "markdown",
   "metadata": {},
   "source": [
    "Provides the file naming organization such as directories, manage disk layout, pick the blocks that constitute a file, balance locality with expandability, manage free space.  \n",
    "File system translates from file name and offset ot data block"
   ]
  },
  {
   "cell_type": "markdown",
   "metadata": {},
   "source": [
    "File Metadata - file header describes where the file is on disk and the attributes of the file such as owner id, size, permissions, last modified time, and location of all data blocks. Metadata blocks are stored at a location known by the OS so they can be accessed without checking another data structure.  \n",
    "Data: the contents that users actually care about, directory data blocks that map file names to file headers, file data blocks that contain file data"
   ]
  },
  {
   "cell_type": "markdown",
   "metadata": {},
   "source": [
    "# Designing the File Layout"
   ]
  },
  {
   "cell_type": "markdown",
   "metadata": {},
   "source": [
    "We need to support sequential and random access.  \n",
    "We need to lay out the files on the physical disk.   \n",
    "We need to maintain file location information. "
   ]
  },
  {
   "cell_type": "markdown",
   "metadata": {},
   "source": [
    "Most files are small, so we need support for small files, block size can't be too large, so that we don't have too much internal fragmentation.  \n",
    "Most disk space is consumed by large files, so we must allow large files, and large file access should be reasonably efficient.   \n",
    "I/O operations target both small and large files."
   ]
  },
  {
   "cell_type": "markdown",
   "metadata": {},
   "source": [
    "The OS may choose to use a large block size than the sector size of the physical disk. Each block consists of consecutive sectors so that you have sequential access. A larger block size increases transfer efficiency also because of sequential acess, don't have to move the head much, it may be convenient if the block size matches the machine's page size, this is because we don't have to switch pages.  \n",
    "Most systems allow transferring of many sectors between interrpts."
   ]
  },
  {
   "cell_type": "markdown",
   "metadata": {},
   "source": [
    "# File Layout"
   ]
  },
  {
   "cell_type": "markdown",
   "metadata": {},
   "source": [
    "# Contiguous Allocation"
   ]
  },
  {
   "cell_type": "markdown",
   "metadata": {},
   "source": [
    "OS maintains an ordered list of free disk blocks, OS allocates a contiguous chunk of free blocks when it creates a file. The location information in the file header need only contain the start location and the size.  \n",
    "Advantages: simple.   \n",
    "Disadvantages: changing file sizes, fragmentation"
   ]
  },
  {
   "cell_type": "markdown",
   "metadata": {},
   "source": [
    "All file data stored contiguously on disk, file header specifies block and length, best performance for the initial write of a file. Once space has been allocated, later writes may cause the file to grow which would require it to be copied and moved."
   ]
  },
  {
   "cell_type": "markdown",
   "metadata": {},
   "source": [
    "# Linked Allocation"
   ]
  },
  {
   "cell_type": "markdown",
   "metadata": {},
   "source": [
    "File stored as a linked list of blocks. In the file header, keep a pointer to the first and last sector/block allocated to that file. In each sector keep a pointer to the next sector.   \n",
    "2 implementations: \n",
    "1. Linked list of disk blocks, data blocks point to other blocks. \n",
    "2. linked list in a table (FAT)"
   ]
  },
  {
   "cell_type": "markdown",
   "metadata": {},
   "source": [
    "# FAT File System"
   ]
  },
  {
   "cell_type": "markdown",
   "metadata": {},
   "source": [
    "FAT (File allocation table)  \n",
    "Parts:   \n",
    "1. Index structures- master file table, array of 32 bit entries, each element in the array represents a data block in the system, each file represented as an embedded linked list of the entries in the master file table. file nmber = index of first FAT entry, FAT entry will have number of next FAT entry, etc, etc\n",
    "2. Free space map- If data block is free, then it will be 0. Find free blocks by scanning over MFT\n",
    "3. Locality heuristics- As simple as next fit, scan sequentially from last allocated entry and return next free entry, can be improved through defragmentation, moving file data around so it is stored more contiguously on disk"
   ]
  },
  {
   "cell_type": "markdown",
   "metadata": {},
   "source": [
    "Easy to implement, but poor random access, limited access control, no support for hard links, volume and file size are limited."
   ]
  },
  {
   "cell_type": "markdown",
   "metadata": {},
   "source": [
    "# Direct Allocation"
   ]
  },
  {
   "cell_type": "markdown",
   "metadata": {},
   "source": [
    "File header points to each data block.  \n",
    "Advantage: easy to create, grow, shrink files, little fragmentation, supports random access  \n",
    "Disadvantages: File header is big or variably sized"
   ]
  },
  {
   "cell_type": "markdown",
   "metadata": {},
   "source": [
    "# Indexed Allocation"
   ]
  },
  {
   "cell_type": "markdown",
   "metadata": {},
   "source": [
    "OS keeps an array of block pointers for each file in a non data block called the index block. OS allocates an array to hold the pointers to all the blocks when it creates a file but allocates the blocks only on demand. OS fills in the pointers as it allocates blocks.  \n",
    "Advantages: supports both types of access, not much fragmentation.  \n",
    "Disadvantages: Maximum file size, lots of seeks since data is not contiguous"
   ]
  },
  {
   "cell_type": "markdown",
   "metadata": {},
   "source": [
    "Create a non data block for each file called the index blocks that contains a list of pointers to file blocks. The number of pointers is based on size of poitners and size of block. File header contains a pointer to the index block. FIle header has no direct knowledge of where the information is on disk."
   ]
  },
  {
   "cell_type": "markdown",
   "metadata": {},
   "source": [
    "Handling index blocks is througha. linked index block, index blocks could point to other index blocks.  \n",
    "Can also use a mult level index block, file header points to an index block, which has pointers to other index blocks, which hold pointers to data blocks. This method can grow in levels to support larger files."
   ]
  },
  {
   "cell_type": "markdown",
   "metadata": {},
   "source": [
    "# Multilevel indexed files"
   ]
  },
  {
   "cell_type": "markdown",
   "metadata": {},
   "source": [
    "Each file is a fixed asymmetric tree with fixed size file blocks as its leaves. The root of the tree is the file's inode, contains the file's metadata, contains a set of pointers. First 10 point to data blocks, last three point to intermediate blocks."
   ]
  },
  {
   "cell_type": "markdown",
   "metadata": {},
   "source": [
    "# FFS (Fast file system)"
   ]
  },
  {
   "cell_type": "markdown",
   "metadata": {},
   "source": [
    "Used by UNIX, smart index structure, multilevel index allows to locate all blocks of a file.   \n",
    "Uses locality heuristics, block group palcement, optimizes placement for when a file data and metadata and other files within same directory are accessed together.   \n",
    "Reserved space- gives up storage to allow flexibility needed to achieve locality"
   ]
  },
  {
   "cell_type": "markdown",
   "metadata": {},
   "source": [
    "# Directories"
   ]
  },
  {
   "cell_type": "markdown",
   "metadata": {},
   "source": [
    "Directories are just a file that contains a collection of mappings from file name to a file number. The file number is an inode number.   \n",
    "Only the OS can modify directories. This ensures the integrity of mappings and application programs can read directories."
   ]
  },
  {
   "cell_type": "markdown",
   "metadata": {},
   "source": [
    "Naive solution is to use one nmae space for the entire disk. If one use uses a name, noone else can.   \n",
    "User based strategy: Each user has a separate directory, but all of each user's files must still have unique names.   \n",
    "Multilevel directories: tree structures hierarchical name space, store directories on disk, just like files, except there is a special flag bit for directories.  \n",
    "User programs can read directories like any other file, but only special system calls can write directories. Each directory contains the name file number pairs, and there is one root directory."
   ]
  },
  {
   "cell_type": "markdown",
   "metadata": {},
   "source": [
    "To find a block of a file, find the file header, it contains pointers to file blocks, and to find a file header, we need its inumber. To find inumber, read the directory that contains the file, and to find the directory, we need to find a file."
   ]
  },
  {
   "cell_type": "markdown",
   "metadata": {},
   "source": [
    "OS can cache current working directory, users can now specify relative file names. This is a direct optimization."
   ]
  },
  {
   "cell_type": "markdown",
   "metadata": {},
   "source": [
    "# File System Layout"
   ]
  },
  {
   "cell_type": "markdown",
   "metadata": {},
   "source": [
    "Components of the entire disk:\n",
    "1. MBR - Master boot record\n",
    "2. Partition table- contains the addresses of first and last blocks of each partition\n",
    "3. Disk partition\n",
    "  \n",
    "Components of each partition:\n",
    "1. Boot block\n",
    "2. super block\n",
    "3. free space management\n",
    "4. inodes\n",
    "5. root directory\n",
    "6. files and directories. \n",
    "  \n",
    "Components of a super block\n",
    "1. File system type\n",
    "2. file system size\n",
    "3. key parameters of a system\n",
    "4. other administrative info"
   ]
  },
  {
   "cell_type": "markdown",
   "metadata": {},
   "source": [
    "# FFS Locality: Block Groups"
   ]
  },
  {
   "cell_type": "markdown",
   "metadata": {},
   "source": [
    "Divide parition into block groups, distribute metadata, distribute free space bitmap and inode array among block groups.  \n",
    "Place file in block group, when a new file is created FFS looks for inodes in the same blokcas the file's directory.  \n",
    "When a new directory is created FFS places it in a different block from the parent's directory  \n",
    "Place data blocks"
   ]
  },
  {
   "cell_type": "markdown",
   "metadata": {},
   "source": [
    "When a disk is close to full, hard to optimize locality, file may end up scattered through disk. FFS presents applications with a smaller disk (10% reserved space), user write that encroaches on reserved space fails, super user still able to allocate inodes."
   ]
  },
  {
   "cell_type": "markdown",
   "metadata": {},
   "source": [
    "# NTFS"
   ]
  },
  {
   "cell_type": "markdown",
   "metadata": {},
   "source": [
    "Index structure: Extents and flexible tree  \n",
    "Extents: track ranges of contiguous blocks rather than single blocks.   \n",
    "Flexible tree: File represented by variable depth tree, MFT- array of 1KB records holding the trees' roots, similar to inode table. Each record stores sequence of variable sized attribute records"
   ]
  },
  {
   "cell_type": "markdown",
   "metadata": {},
   "source": [
    "NTFS - basic file with 2 data extents, has master file table that holds all file headers, which area called MFT records.  \n",
    "Record conains information, file name, data (resident) and free space. \n",
    "If a record is resident, it contains data inside the data segment of the record.  \n",
    "Otherwise, an attribute list contains pointers to many pointers, or pointers to extents"
   ]
  },
  {
   "cell_type": "markdown",
   "metadata": {},
   "source": [
    "Small file has data resident in the record, medium files have a single record with pointers to extend, and large files can span many records, which have pointers to extents, and pointers to next records, and for really large files, it can span multiple records.  "
   ]
  },
  {
   "cell_type": "markdown",
   "metadata": {},
   "source": [
    "NTFS stores most metadata in ordinary files with well-known numbers.   \n",
    "9 stores access control list for every file, indexed by fixed length key. Files store appropriate key in their MFT record.   \n",
    "The MFT is file number 0, and to read it, you need to know the first entry of MFT, and a pointer to it is stored in the first sector of NTFS. It can start small and grow dynamically. To avoid fragmentation, NTFS reserves part of start of volume for MFT expansion."
   ]
  },
  {
   "cell_type": "markdown",
   "metadata": {},
   "source": [
    "NTFS takes advantage of locality, in that it finds the smallest region large enough to fit file. It caches allocation status for a small area of disk, and writes that occur together in time get clustered together.   \n",
    "SetEndOfFile() lets users specify expected length of file at creation."
   ]
  }
 ],
 "metadata": {
  "kernelspec": {
   "display_name": "Python 3",
   "language": "python",
   "name": "python3"
  },
  "language_info": {
   "codemirror_mode": {
    "name": "ipython",
    "version": 3
   },
   "file_extension": ".py",
   "mimetype": "text/x-python",
   "name": "python",
   "nbconvert_exporter": "python",
   "pygments_lexer": "ipython3",
   "version": "3.6.3"
  }
 },
 "nbformat": 4,
 "nbformat_minor": 2
}
