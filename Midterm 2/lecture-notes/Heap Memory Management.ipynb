{
 "cells": [
  {
   "cell_type": "markdown",
   "metadata": {},
   "source": [
    "# Heap Memory Management"
   ]
  },
  {
   "cell_type": "markdown",
   "metadata": {},
   "source": [
    "Dynamically allocated program objects and data are in the heap, needed whe the required memory size is not known until the program runs.\n",
    "How do we manageme dynamically allocaated memory?  \n",
    "prgoram requests memory from the OS for the heap, OS gives memory to the process 1-k ppages at a time, the runtime system manages the heap memory, memory isn't returned to the OS until the program ends."
   ]
  },
  {
   "cell_type": "markdown",
   "metadata": {},
   "source": [
    "Two categories of heap memory management\n",
    "1. Explicit- programmer manually manages memory\n",
    "2. Implicit- automatic memory management via garbage collection"
   ]
  },
  {
   "cell_type": "markdown",
   "metadata": {},
   "source": [
    "# Explicit memory management"
   ]
  },
  {
   "cell_type": "markdown",
   "metadata": {},
   "source": [
    "User explicitly allocates memory and may request deallocation of memory when no longer used.  \n",
    "Runtime system receives requests, and identifies approprate location for allocation, if allocation doesn't fit, requests more memory, returns pointer, frees allocation on request"
   ]
  },
  {
   "cell_type": "markdown",
   "metadata": {},
   "source": [
    "# Allocation techniques"
   ]
  },
  {
   "cell_type": "markdown",
   "metadata": {},
   "source": [
    "1. Bump pointer, contiguous allocation, pointer begins at the start of heap, pointer is bumped past allocation as bytes are allocated\n",
    "2. Free list, divides memory into some size blocks, maintains a free list, must be stored in heap, uses a special structure to allocate memory, to allocate, find block in free list, to deallocate memory, put memory back on free list"
   ]
  },
  {
   "cell_type": "markdown",
   "metadata": {},
   "source": [
    "# Choosing the spot"
   ]
  },
  {
   "cell_type": "markdown",
   "metadata": {},
   "source": [
    "1. Block is a perfect fit: remove the element from list, link previous elements to next element, return current element to the user\n",
    "2. Block is too big: divide block into two pieces, keep fist block in free list, allocate second block to the user"
   ]
  },
  {
   "cell_type": "markdown",
   "metadata": {},
   "source": [
    "To get more heap space, ask the operating system for additional memory, ask for a large chunk, insert new chunk into free list, and then try again."
   ]
  },
  {
   "cell_type": "markdown",
   "metadata": {},
   "source": [
    "# Performance"
   ]
  },
  {
   "cell_type": "markdown",
   "metadata": {},
   "source": [
    "Best fit is slow, need to scan the entire free list, solution is binning, divide list by chunk size."
   ]
  },
  {
   "cell_type": "markdown",
   "metadata": {},
   "source": [
    "# Binning strategies: Exact fit"
   ]
  },
  {
   "cell_type": "markdown",
   "metadata": {},
   "source": [
    "Have a bin for each chunk size, up to a limit.  \n",
    "Pros: no search for requests up to that size.  \n",
    "Cons: many bins, each storing a pointer"
   ]
  },
  {
   "cell_type": "markdown",
   "metadata": {},
   "source": [
    "# Binning strategies: Range"
   ]
  },
  {
   "cell_type": "markdown",
   "metadata": {},
   "source": [
    "Have a bin cover a range of sizes, up to a limit  \n",
    "Pros: less bins  \n",
    "Cons: need to search for a big enough chunk"
   ]
  },
  {
   "cell_type": "markdown",
   "metadata": {},
   "source": [
    "# Deallocation with free"
   ]
  },
  {
   "cell_type": "markdown",
   "metadata": {},
   "source": [
    "User passes a pointer to the memory block, free function inserts block into the list, coalesce if needed. To coalesce, check if contiguous to upper and lower neighbors."
   ]
  }
 ],
 "metadata": {
  "kernelspec": {
   "display_name": "Python 3",
   "language": "python",
   "name": "python3"
  },
  "language_info": {
   "codemirror_mode": {
    "name": "ipython",
    "version": 3
   },
   "file_extension": ".py",
   "mimetype": "text/x-python",
   "name": "python",
   "nbconvert_exporter": "python",
   "pygments_lexer": "ipython3",
   "version": "3.6.3"
  }
 },
 "nbformat": 4,
 "nbformat_minor": 2
}
