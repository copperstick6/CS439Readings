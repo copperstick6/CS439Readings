{
 "cells": [
  {
   "cell_type": "markdown",
   "metadata": {},
   "source": [
    "# Paging: The policy"
   ]
  },
  {
   "cell_type": "markdown",
   "metadata": {},
   "source": [
    "When should a process's pages be loaded into memory?  \n",
    "If a memory is full but a page fault has just occured, what should happen? Which page should be replaced?  \n",
    "What is a good page size?  \n",
    "How many processes are too many?"
   ]
  },
  {
   "cell_type": "markdown",
   "metadata": {},
   "source": [
    "When do you load a page?  \n",
    "1. Demand paging: OS loads a page the first time it is referenced\n",
    "2. Pre-paging: OS guesses in advance which pages the process will need and pre-loads them"
   ]
  },
  {
   "cell_type": "markdown",
   "metadata": {},
   "source": [
    "# Prepaging with a TLB- initializing memory"
   ]
  },
  {
   "cell_type": "markdown",
   "metadata": {},
   "source": [
    "1. A process needing k pages arrives\n",
    "2. The OS allocates all k pages to the free frames, os puts each page in a frame and updates the page table\n",
    "3. OS flushes the TLB\n",
    "4. OS starts process\n",
    "5. As process executes, OS loads TLB entries as each page is accessed, replacing an existing entry if the TLB is full"
   ]
  },
  {
   "cell_type": "markdown",
   "metadata": {},
   "source": [
    "# Demand paging with a TLB - initializing memory"
   ]
  },
  {
   "cell_type": "markdown",
   "metadata": {},
   "source": [
    "1. A process arrives\n",
    "2. The OS stores the process' virtual address space on disk and does not put any of it into memory\n",
    "3. The OS flushes the TLB\n",
    "4. OS starts the process\n",
    "5. Pages are faulted in as they are needed, OS puts each page in a frame and updates entries in the page table\n",
    "6. OS loads TLB entries as each page is accessed, replacing an existing entry if the TLB is full"
   ]
  },
  {
   "cell_type": "markdown",
   "metadata": {},
   "source": [
    "# Performance of demand paging"
   ]
  },
  {
   "cell_type": "markdown",
   "metadata": {},
   "source": [
    "Theoretically, a process could access a new page with each instruction  \n",
    "But processes tend to exhibit locality of reference.  \n",
    "1. temporal locality- if a process accesses an item, it will likely reference it again soon\n",
    "2. spatial locality- if a process accesses an item in memory, it will tend to reference an adjacent item soon"
   ]
  },
  {
   "cell_type": "markdown",
   "metadata": {},
   "source": [
    "# What happens if we have a page fault, but memory is full?"
   ]
  },
  {
   "cell_type": "markdown",
   "metadata": {},
   "source": [
    "1. OS selects a page to replace\n",
    "2. invalidates old page in the page table\n",
    "3. starts loading in the new page into memory from disk\n",
    "4. context switches to another process while I/O ishappening\n",
    "5. gets interrupts that page is loaded in memory\n",
    "6. updates page table entry\n",
    "7. continues faulting process"
   ]
  },
  {
   "cell_type": "markdown",
   "metadata": {},
   "source": [
    "# Page replacement algorithm goals"
   ]
  },
  {
   "cell_type": "markdown",
   "metadata": {},
   "source": [
    "Must improve OS performance by decreasing page faults, being efficient"
   ]
  },
  {
   "cell_type": "markdown",
   "metadata": {},
   "source": [
    "# FIFO"
   ]
  },
  {
   "cell_type": "markdown",
   "metadata": {},
   "source": [
    "Throw out oldest page, but OS can throw out frequently accessed page."
   ]
  },
  {
   "cell_type": "markdown",
   "metadata": {},
   "source": [
    "# Optimal"
   ]
  },
  {
   "cell_type": "markdown",
   "metadata": {},
   "source": [
    "Look into future and throw out page that will be accessed farthest in the future"
   ]
  },
  {
   "cell_type": "markdown",
   "metadata": {},
   "source": [
    "# LRU"
   ]
  },
  {
   "cell_type": "markdown",
   "metadata": {},
   "source": [
    "Throw out page that has not been used in the longest time.  \n",
    "implementing has two options:\n",
    "1. keep a time stamp for each page, problem is that the OS must record the time stamp for each memory access\n",
    "2. keep a list of pages, where the front of the list is most recently used, still expensive, since the OS must modify a lot of pointers."
   ]
  },
  {
   "cell_type": "markdown",
   "metadata": {},
   "source": [
    "# Clock"
   ]
  },
  {
   "cell_type": "markdown",
   "metadata": {},
   "source": [
    "Maintain a circular list of pages in memory, with a pointer to the oldest page. Before replacing a page, check its reference bit, if referenced (bit is 1), clear bit and check next page until we find a 0 reference bit."
   ]
  },
  {
   "cell_type": "markdown",
   "metadata": {},
   "source": [
    "# Second Chance"
   ]
  },
  {
   "cell_type": "markdown",
   "metadata": {},
   "source": [
    "Cheaper to replace a page that has not been written to big, check its reference and modify bit, try to find a 0,0.  \n",
    "If it finds a 0,0 replace that page. If it is a 0,1, initialize a write to I/O, lock page until I/O is complete, clear modify bit and search while I/O is done. Clear reference bit on pass, on second pass, states may have changed, so you can find stuff."
   ]
  },
  {
   "cell_type": "markdown",
   "metadata": {},
   "source": [
    "Local page replacement algorithms only consider the pages owned by the faulting process, fixed number of pages per process  \n",
    "Global page replacement algorithms consider all pages."
   ]
  },
  {
   "cell_type": "markdown",
   "metadata": {},
   "source": [
    "# Working set model"
   ]
  },
  {
   "cell_type": "markdown",
   "metadata": {},
   "source": [
    "Working set is the pages the process is using right now, pages that have recently been referenced are likely to be referenced again soon, keep those in memory. Pages may be removed even when no page fault occurs. Allows pre paging."
   ]
  },
  {
   "cell_type": "markdown",
   "metadata": {},
   "source": [
    "# Thrashing"
   ]
  },
  {
   "cell_type": "markdown",
   "metadata": {},
   "source": [
    "Thrashing occurs when the memory is over commited and pages are tossed when they are still in use. Many memory references cause pages to be faulted in, which causes a huge loss of performance."
   ]
  },
  {
   "cell_type": "markdown",
   "metadata": {},
   "source": [
    "# Load Control"
   ]
  },
  {
   "cell_type": "markdown",
   "metadata": {},
   "source": [
    "Load control refers to the number of processes that can reside in memory at one time, working set model provides implicit load control by only allowing a process to execute if its working set fits in memory, but process frame allocations are variable. What happens when the total number of pages needed is greater than the number of frames avaiable? Processes are swapped to disk."
   ]
  },
  {
   "cell_type": "markdown",
   "metadata": {},
   "source": [
    "When a process is swapped out of memory, it is put into swap, adds another stage to the process life cycle called suspended."
   ]
  },
  {
   "cell_type": "markdown",
   "metadata": {},
   "source": [
    "Page sizes are growing slowly, but steadily.  \n",
    "Benefits of smaller pages: more efficient memory use.    \n",
    "Benefits of large pages: smaller page tables, reduced I/O time, fewer page faults.  \n",
    "Growing because memory is cheap, and CPU is increasing faster thatn disk speed, so page faults cause a larger slow down."
   ]
  }
 ],
 "metadata": {
  "kernelspec": {
   "display_name": "Python 3",
   "language": "python",
   "name": "python3"
  },
  "language_info": {
   "codemirror_mode": {
    "name": "ipython",
    "version": 3
   },
   "file_extension": ".py",
   "mimetype": "text/x-python",
   "name": "python",
   "nbconvert_exporter": "python",
   "pygments_lexer": "ipython3",
   "version": "3.6.3"
  }
 },
 "nbformat": 4,
 "nbformat_minor": 2
}
