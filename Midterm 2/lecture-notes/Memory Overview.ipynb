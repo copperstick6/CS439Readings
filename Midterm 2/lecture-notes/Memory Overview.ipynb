{
 "cells": [
  {
   "cell_type": "markdown",
   "metadata": {},
   "source": [
    "# Address Spaces"
   ]
  },
  {
   "cell_type": "markdown",
   "metadata": {},
   "source": [
    "Physical Address space - collection of physical memory addresses supported by the hardware from 0 to system's max  \n",
    "Logical/virtual address space - collection of addresses that the process can access, from address 0 to program's max. \n",
    "Segment - a chunk of physical memory assigned to a process"
   ]
  },
  {
   "cell_type": "markdown",
   "metadata": {},
   "source": [
    "# Back to architecture"
   ]
  },
  {
   "cell_type": "markdown",
   "metadata": {},
   "source": [
    "The CPU contains a processor, Caches, TLB/MMU.  \n",
    "The CPU generates a virtual address, using that address, it checks the cache for the relevant data, the address must be translated to a physiacl address before memory can be acessed. The translation happens in the TLB/MMU.  \n",
    "Once the physical address is obtained, the CPU uses the system bus to access that memory location. Memory is attached to the system bus through a memory controller, which is a piece of hardware that controls memory. "
   ]
  },
  {
   "cell_type": "markdown",
   "metadata": {},
   "source": [
    "# Uniprogramming"
   ]
  },
  {
   "cell_type": "markdown",
   "metadata": {},
   "source": [
    "One process executes at a time, process is loaded at the physical address of 0, process executes in contiguous ssection of memory, OS gets fixed part of memory, compiler generated physical addresses, OS is protected from processes by address checking."
   ]
  },
  {
   "cell_type": "markdown",
   "metadata": {},
   "source": [
    "# Multiple programs share memory requirements"
   ]
  },
  {
   "cell_type": "markdown",
   "metadata": {},
   "source": [
    "1. Transparency: We want multiple processes to coexist in memory, no process should be aware that memory is shared, processes should not care what physical portion of memory they get.  \n",
    "2. Safety: Processes must not be able to corrupt each other, processes must not be able to corrupt the OS. \n",
    "3. Efficiency: Performance of the CPU and memory should not be degraded badly due to sharing."
   ]
  },
  {
   "cell_type": "markdown",
   "metadata": {},
   "source": [
    "# Relocation"
   ]
  },
  {
   "cell_type": "markdown",
   "metadata": {},
   "source": [
    "Put the OS in the highest memory, assume that the process starts at address 0, with a max address limit (total memory - OS size).  \n",
    "When the OS loads the process, it allocates a contiguous segment of memory in which the process fits, and if it does not fit, the OS waits for a process to terminate to get extra space to fit this process.  \n",
    "The smallest physical address of the process is the base address and the largest physical adress the process can access is the limit address. The base address is also known as the relocation address.  \n",
    "Two types of relocation\n",
    "1. Static: OS adjusts the addresses in a process to reflect its location in memory. Once process is assigned a place in memory and starts executing, OS cannot move it.\n",
    "2. Dynamic: Hardware adds relocation register to virtual address to get physical address, hardware compares address with limit register, address must be less thatn limit. If it isn't an exception is raised."
   ]
  },
  {
   "cell_type": "markdown",
   "metadata": {},
   "source": [
    "# Static Relocation"
   ]
  },
  {
   "cell_type": "markdown",
   "metadata": {},
   "source": [
    "1. Compilation- addresses go from lexical locations in the user's text to labels. Instructions are converted to assembly\n",
    "2. During assembly stage, the lavels become addresses in a logical address space\n",
    "3. During the linking stage, addresses are adjusted in a new logical address space that contains library routines\n",
    "4. During loading, the addresses are translated into actual physical addresses, and that address is determined by where the system has room for the process"
   ]
  },
  {
   "cell_type": "markdown",
   "metadata": {},
   "source": [
    "# Dynamic Relocation"
   ]
  },
  {
   "cell_type": "markdown",
   "metadata": {},
   "source": [
    "The bound register is used to make sure that the program isn't trying to access memory outside its space.  \n",
    "The base register holds the beginning of that program's addresses in physical memory.  \n",
    "In order to do address translation, the program gives an address to the CPU, and the MMU checks the address with the bound register and adds the base register to the logical address to get the physical address at once. If the address is greater than the bounds register, it is trying to access something outside of its allocated memory and an exception is thrown."
   ]
  },
  {
   "cell_type": "markdown",
   "metadata": {},
   "source": [
    "# Memory Management"
   ]
  },
  {
   "cell_type": "markdown",
   "metadata": {},
   "source": [
    "As processes enter the system, grow, and terminate, the OS must track which memory is available and which is utilized, Given a memory request, the OS must decide what space to use for the process."
   ]
  },
  {
   "cell_type": "markdown",
   "metadata": {},
   "source": [
    "# Memory Allcation Policies: Evaluation"
   ]
  },
  {
   "cell_type": "markdown",
   "metadata": {},
   "source": [
    "Minimize wasted space: External fragmentation- unused memory between units of allocation  \n",
    "Internal Fragmentation- unused memory within a unit of allocation"
   ]
  },
  {
   "cell_type": "markdown",
   "metadata": {},
   "source": [
    "# First Fit"
   ]
  },
  {
   "cell_type": "markdown",
   "metadata": {},
   "source": [
    "Use the first avaiable free block that is larger than or equal to the requested block.  \n",
    "Requirement: Free block list sorted by address, allocation requires a search for suitable position, deallocation requires a check to see if free partition could be merged with any adjacent free partitions.  \n",
    "Pros: Easy to implement, produces larger free blocks toward end of address space\n",
    "Cons: Slow allocation (have to scan for an open block), external fragmentation"
   ]
  },
  {
   "cell_type": "markdown",
   "metadata": {},
   "source": [
    "# Best Fit"
   ]
  },
  {
   "cell_type": "markdown",
   "metadata": {},
   "source": [
    "Find the smallest avaiable free block that the block size is larger than or equal to the requested block.  \n",
    "Goals: Avoid fragmenting big blocks, reduce size of resulting external fragments.  \n",
    "Requirements: Same as first fit. \n",
    "Advantages: works well when allocations are of small size, relatively simple  \n",
    "Disadvantages: External fragmentation, slow de-allocation"
   ]
  },
  {
   "cell_type": "markdown",
   "metadata": {},
   "source": [
    "# Worst Fit"
   ]
  },
  {
   "cell_type": "markdown",
   "metadata": {},
   "source": [
    "Find the largest available free block.  \n",
    "Goals: avoid having too many tiny fragments.  \n",
    "Requirements are the same, except allocation is fast (get largest block). \n",
    "Advantages: Works if allocation are of medium size.  \n",
    "Disadvantages: External fragmentations, breaks large free blocks, slow deallocation"
   ]
  },
  {
   "cell_type": "markdown",
   "metadata": {},
   "source": [
    "# Eliminating Fragmentation"
   ]
  },
  {
   "cell_type": "markdown",
   "metadata": {},
   "source": [
    "1. Compaction: Relocate programs to coalesce holes. \n",
    "2. Swapping: Preempt processes, roll them out to disk, and reclaim their memory"
   ]
  }
 ],
 "metadata": {
  "kernelspec": {
   "display_name": "Python 3",
   "language": "python",
   "name": "python3"
  },
  "language_info": {
   "codemirror_mode": {
    "name": "ipython",
    "version": 3
   },
   "file_extension": ".py",
   "mimetype": "text/x-python",
   "name": "python",
   "nbconvert_exporter": "python",
   "pygments_lexer": "ipython3",
   "version": "3.6.3"
  }
 },
 "nbformat": 4,
 "nbformat_minor": 2
}
