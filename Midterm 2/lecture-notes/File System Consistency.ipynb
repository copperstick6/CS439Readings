{
 "cells": [
  {
   "cell_type": "markdown",
   "metadata": {},
   "source": [
    "# Sources of Inconsistency: Cached Data Structures"
   ]
  },
  {
   "cell_type": "markdown",
   "metadata": {},
   "source": [
    "File systems have many data structures that the OS caches to get good performances. Keeping them accurate is easy if we read."
   ]
  },
  {
   "cell_type": "markdown",
   "metadata": {},
   "source": [
    "# Writing to Caches"
   ]
  },
  {
   "cell_type": "markdown",
   "metadata": {},
   "source": [
    "Modified data kept in memory can be lost.   \n",
    "You can either do:\n",
    "1. Write-through: write changes immediately back to disk, this method is consistent, but slow. We have to wait for the write to hit the disk and generate an interrupt.  \n",
    "2. Write-back: delay writing the modified data until the page is replaced in memory. This is better performance, but can cause inconsistencies since the data can be lost in a crash."
   ]
  },
  {
   "cell_type": "markdown",
   "metadata": {},
   "source": [
    "If only a single write succeeds, the following scenarios can occur:\n",
    "1. The data block is written to disk: Data is written, but there is no way to get to it\n",
    "2. The updated inode is written to disk: If we follow the pointer, we read garbage. Data bitmap says block is free, while inode says it is uesd, must be fixed.  \n",
    "3. Bitmap is written to disk: Data bitmap says data block is used, but no inode points to it"
   ]
  },
  {
   "cell_type": "markdown",
   "metadata": {},
   "source": [
    "You need all three writes to succeed."
   ]
  },
  {
   "cell_type": "markdown",
   "metadata": {},
   "source": [
    "Several file system operations update multiple global data structures. We need reliability from unreliable parts."
   ]
  },
  {
   "cell_type": "markdown",
   "metadata": {},
   "source": [
    "# UNIX approach"
   ]
  },
  {
   "cell_type": "markdown",
   "metadata": {},
   "source": [
    "To keep metadata consistent, UNIX uses synchronous write-through. If multiple updates are needed, they are performed in a specific order. If a crash occurs, check for inprogress operations and fix up problems, run fsck to scan entire disk for consistency."
   ]
  },
  {
   "cell_type": "markdown",
   "metadata": {},
   "source": [
    "# FSCK"
   ]
  },
  {
   "cell_type": "markdown",
   "metadata": {},
   "source": [
    "Scans entire disk for inconsistencies, prior to update of inode bitmap, writes dissapear. Data block referenced in inode, but not in data bitmap. Update data bitmap.  \n",
    "File created but not in any directory: delete file."
   ]
  },
  {
   "cell_type": "markdown",
   "metadata": {},
   "source": [
    "In order to keep regular data consistent, UNIX uses asynchronous write back for user data. Can lose data written within time interval. \n",
    "Does not guarantee blocks are written to disk in any particular order.   \n",
    "User programs that care about consistency and reliability store new versions of data in temporary files and replace older version only when user commits"
   ]
  },
  {
   "cell_type": "markdown",
   "metadata": {},
   "source": [
    "Issues: Synchronous writes lead to poor performance, recovery is slow, need to get reasoning exactly right"
   ]
  },
  {
   "cell_type": "markdown",
   "metadata": {},
   "source": [
    "If we need multiple file operations and need atomicity, we run into issues"
   ]
  },
  {
   "cell_type": "markdown",
   "metadata": {},
   "source": [
    "# Transactions in File Systems"
   ]
  },
  {
   "cell_type": "markdown",
   "metadata": {},
   "source": [
    "Most file systems now use write-ahead logging, known as journaling file systems.   \n",
    "Write all metadata changes to a transaction log before sending any changes to disk. File changes are : update directory, allocate blocks, etc. Transaction are create directory, delete file, etc.   \n",
    "Eliminates need for fsck after crash.  \n",
    "In the event of a crash, read the log. If no log, then all updates made it to disk.  \n",
    "If the log is incomplete, do nothing.   \n",
    "If the log is commited, apply any changes left to disk."
   ]
  },
  {
   "cell_type": "markdown",
   "metadata": {},
   "source": [
    "Issuing 5 writes to log is sequentially slow. Issue all at once and transform in a single sequential write.   \n",
    "Problem is that a disk can schedule writes out of order. The solution is to set a barrier before TXEnd, which must block until the data is on disk."
   ]
  },
  {
   "cell_type": "markdown",
   "metadata": {},
   "source": [
    "Issue with this is you need to write twice. It is however, reliable."
   ]
  },
  {
   "cell_type": "markdown",
   "metadata": {},
   "source": [
    "# Copy on Write file systems"
   ]
  },
  {
   "cell_type": "markdown",
   "metadata": {},
   "source": [
    "Data and metadata are not updated in place, but written to a new location. This transforms random writes to sequential writes.  \n",
    "Motivations\n",
    "1. Small writes are expensive\n",
    "2. Small writes are expensive on RAID\n",
    "3. Expensive to update a single block, but efficient for entire stripes\n",
    "4. Caches filter reads\n",
    "5. Widespread adoption of flash storage\n",
    "6. Large capacities enable versioning."
   ]
  }
 ],
 "metadata": {
  "kernelspec": {
   "display_name": "Python 3",
   "language": "python",
   "name": "python3"
  },
  "language_info": {
   "codemirror_mode": {
    "name": "ipython",
    "version": 3
   },
   "file_extension": ".py",
   "mimetype": "text/x-python",
   "name": "python",
   "nbconvert_exporter": "python",
   "pygments_lexer": "ipython3",
   "version": "3.6.3"
  }
 },
 "nbformat": 4,
 "nbformat_minor": 2
}
