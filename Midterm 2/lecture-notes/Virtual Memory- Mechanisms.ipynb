{
 "cells": [
  {
   "cell_type": "markdown",
   "metadata": {},
   "source": [
    "# Another memory problem"
   ]
  },
  {
   "cell_type": "markdown",
   "metadata": {},
   "source": [
    "Problem: Processes that are each too large to fit into memory\n",
    "1. Overlays: Programmer manually divided the program into pieces, or overlays, overlay manager swaps overlays in and out during execution, only necessary pieces in memory at a given time\n",
    "2. Paging: Portions of virtual address space in physical memory at one time, virtual address space divided into equal pieces, needed pieces are brought in from memory, virutal address space can be greater than available physical memory."
   ]
  },
  {
   "cell_type": "markdown",
   "metadata": {},
   "source": [
    "# Paging"
   ]
  },
  {
   "cell_type": "markdown",
   "metadata": {},
   "source": [
    "1. Divides a process' virtual address space into fixed sized pages\n",
    "2. Stores a copy of that address space on disk\n",
    "3. Views the physical memory as a series of equal sized page frames\n",
    "4. Moves the pages into frames in memory\n",
    "5. Manages the pages in memory"
   ]
  },
  {
   "cell_type": "markdown",
   "metadata": {},
   "source": [
    "# Pages"
   ]
  },
  {
   "cell_type": "markdown",
   "metadata": {},
   "source": [
    "A process' virtual address space is partitioned into equal sized pages. A virtual address is a pair (page number, page offset). The virtual address is equivalent to max page offset * page number + page offset."
   ]
  },
  {
   "cell_type": "markdown",
   "metadata": {},
   "source": [
    "# Page frames"
   ]
  },
  {
   "cell_type": "markdown",
   "metadata": {},
   "source": [
    "Physical memory is partitioned into equal sized page frames. A page size is equivalent to the frame size. A memory address is a pair (frame number, frame offset). The physical address is frame number * frame offset max + frame offset."
   ]
  },
  {
   "cell_type": "markdown",
   "metadata": {},
   "source": [
    "# Virtual to physical allocation policy"
   ]
  },
  {
   "cell_type": "markdown",
   "metadata": {},
   "source": [
    "Pages map to frames, pages are contiguous in the virtual address space, but pages are arbitrarily located in physical memory, and not all pages are mapped at all times.  \n",
    "Problem is how do we find addresses when pages are not allocated contiguously in physical memory?  \n",
    "Solution: Page table keeps track of mapping of pages to page frames, mapping is invisible to process."
   ]
  },
  {
   "cell_type": "markdown",
   "metadata": {},
   "source": [
    "Virtual address translation steps:\n",
    "1. Program gives virtual address to the CPU to translate\n",
    "2. The MMU splits the virtual address into its page and offset numbers\n",
    "3. Since the offset is the same in virtual and physical memory, it is sent along with no change.\n",
    "4. The page number is translated into a frame number, look into page table to find if it exists, if it does, send the frame number. If it doesn't pull it from disk and send the grame number\n",
    "5. Append the offset to the end of the frame number to get the full physical address."
   ]
  },
  {
   "cell_type": "markdown",
   "metadata": {},
   "source": [
    "Paging allows shared memory, memory useed by a process no longer needs to be contiguous, shared page may exist in different parts of the virtual address of each process, but map to the same physical address."
   ]
  },
  {
   "cell_type": "markdown",
   "metadata": {},
   "source": [
    "Only one page table per process, as a part of the the process state, this stops processes from corrupting each others' page tables and accessing each others' memory.  \n",
    "Page table entry contents: flgas, frame number.  \n",
    "There is a page table base register that holds the base address of each page table. A page number is added to the base register to get the register of the corresponding entry in the page table for that page."
   ]
  },
  {
   "cell_type": "markdown",
   "metadata": {},
   "source": [
    "Performance issue: Virtual memory references require two memory references, one to access page table entry, one to get data."
   ]
  },
  {
   "cell_type": "markdown",
   "metadata": {},
   "source": [
    "# Improving speed: TLB (Translation lookaside buffers)"
   ]
  },
  {
   "cell_type": "markdown",
   "metadata": {},
   "source": [
    "TLB adds an extra step to getting a frame number form the page numner. The TLB holds recently used frame/page pairings. They have a high hit ratio, since they exploit locality. If it is a TLB hit, it takes one cycle/transaction."
   ]
  },
  {
   "cell_type": "markdown",
   "metadata": {},
   "source": [
    "Issues with space: two sources, data structure overhead, page table, fragmentation   \n",
    "Page table can be very large."
   ]
  },
  {
   "cell_type": "markdown",
   "metadata": {},
   "source": [
    "# Dealing with large page tables - Multi level paging"
   ]
  },
  {
   "cell_type": "markdown",
   "metadata": {},
   "source": [
    "Add additional levels of indirection to the page table by subdividing the page number into k parts, which creates a k depth tree of tables.   \n",
    "Each entry in the first level points to the second leve, which points to the third level, which holds the bit/frame number information associated with the page table entry. It saves space, since you only need to allocate space for the page table levels you need."
   ]
  },
  {
   "cell_type": "markdown",
   "metadata": {},
   "source": [
    "Multilevel page tables work well for 32 bit addresses, don't work well for 64 bit, too many levels.  \n",
    "Instead of making tables proportional to the size of the virtual address space, make them proportional to the size of the physical address space, one entry for each physical page"
   ]
  },
  {
   "cell_type": "markdown",
   "metadata": {},
   "source": [
    "# Inverted page tables"
   ]
  },
  {
   "cell_type": "markdown",
   "metadata": {},
   "source": [
    "Each frame associated with an entry, contains a residence bit, occupier, protection bits.  \n",
    "As the CPU generates virtual addresses, we must search the entire page table for the physical page, and we can solve this by either caching it, or using the TLB to hold all heavily used pages, but the TLB is limited in size.  \n",
    "We can use a hash table!  "
   ]
  },
  {
   "cell_type": "markdown",
   "metadata": {},
   "source": [
    "# Hashed inverted table"
   ]
  },
  {
   "cell_type": "markdown",
   "metadata": {},
   "source": [
    "Hash page numbers to find corresponding frame number, page frame number not explicitly stored, protection, dirty, used, resident bits also in entry.  \n",
    "Hash functions takes in the PID and the page number, which is added to the page table base register to get the address of the right page table entry. Once at the right page table entry, the PID and page number saved in the entry are checked against the PID and page number, if the don't match, we need to swap pages, otherwise, send the frame number along."
   ]
  },
  {
   "cell_type": "markdown",
   "metadata": {},
   "source": [
    "# The Big Picture"
   ]
  },
  {
   "cell_type": "markdown",
   "metadata": {},
   "source": [
    "CPU generates a virtual address, address is trnaslated into physical address, used to reference physical memory.  \n",
    "1. CPU generates virtual address\n",
    "2. Virtual address used to reference a virtually addressed cache, if there's a match, we are finished\n",
    "3. Otherwise, we need to access the TLB, and if there is a match, we get the physical address to access the physically addressed cache.\n",
    "4. If there is no match, we must go to the page table and find the frame number using the page table base register and the offser values gained from the page table.\n",
    "5. If there is a match in this cache, we are done.\n",
    "6. Otherwise, the physical address is used to access main memory."
   ]
  },
  {
   "cell_type": "markdown",
   "metadata": {},
   "source": [
    "A process' virtual address space is part of its context, code pages are stored on disk, data and stack pages are also stored on file, OS determines which portions of a process' virtual address space are mapped in memory at any time."
   ]
  },
  {
   "cell_type": "markdown",
   "metadata": {},
   "source": [
    "# Page faults"
   ]
  },
  {
   "cell_type": "markdown",
   "metadata": {},
   "source": [
    "References to unmapped pages results in a page fault  \n",
    "Steps to handle a page fault\n",
    "1. Exception is thrown, process is blocked, kernel mode flipped, page fault handler called\n",
    "2. OS starts read of unmapped page\n",
    "3. OS maps missing page into memory\n",
    "4. OS returns control to the faulting process, unblocking it"
   ]
  }
 ],
 "metadata": {
  "kernelspec": {
   "display_name": "Python 3",
   "language": "python",
   "name": "python3"
  },
  "language_info": {
   "codemirror_mode": {
    "name": "ipython",
    "version": 3
   },
   "file_extension": ".py",
   "mimetype": "text/x-python",
   "name": "python",
   "nbconvert_exporter": "python",
   "pygments_lexer": "ipython3",
   "version": "3.6.3"
  }
 },
 "nbformat": 4,
 "nbformat_minor": 2
}
