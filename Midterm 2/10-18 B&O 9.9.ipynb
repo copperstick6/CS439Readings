{
 "cells": [
  {
   "cell_type": "markdown",
   "metadata": {},
   "source": [
    "# 9.9 Dynamic memory allocation"
   ]
  },
  {
   "cell_type": "markdown",
   "metadata": {},
   "source": [
    "A dynamic memory allocaor maintains an area of a process' veritual memory known as the heap.  \n",
    "The heap is an area of memory that begins immediately after the data area and grows upwards. For each process, the kernel maintains a break variable that points ot the top of the heap.  \n",
    "An allocator maintains the heap as a collection of various size blocks. Each block is a contiguous chunk of virtual memory that is either allocated or free. An allocatred block has been reserved for use by the application. A free block remains free until it is explicitly allocated by the appliction. An allocated block remains allocated until it is freed, either by the application or the memory allocator.  \n"
   ]
  },
  {
   "cell_type": "markdown",
   "metadata": {},
   "source": [
    "Memory allocators come in two types:  \n",
    "1. Explicit Allocators: Requires the application to explicitly free and allocate memory.   \n",
    "2. Implicit Allocators: Requires the allocator to detect when an allocated block is no longer used by the program and then free the block. They also  use garbage collectors."
   ]
  },
  {
   "cell_type": "markdown",
   "metadata": {},
   "source": [
    "## 9.9.1 Malloc() and Free()"
   ]
  },
  {
   "cell_type": "markdown",
   "metadata": {},
   "source": [
    "pretty easy. malloc allocates a contiguous block of memory that you request. Free frees that chunk of memory."
   ]
  },
  {
   "cell_type": "markdown",
   "metadata": {},
   "source": [
    "## 9.9.2 Why Dynamic Allocation??"
   ]
  },
  {
   "cell_type": "markdown",
   "metadata": {},
   "source": [
    "The reason why a lot of programs use dynamic allocation is due to the fact that programs often do not know the sizes of certain data structures until runtime.  \n",
    "One approach of allocation is to allocate a fixed size, but this is bad since it has no relation to the ammount of VM on hardware. Just wait until you get the needed size and malloc that much."
   ]
  },
  {
   "cell_type": "markdown",
   "metadata": {},
   "source": [
    "## 9.9.3 Allocator requirements and goals"
   ]
  },
  {
   "cell_type": "markdown",
   "metadata": {},
   "source": [
    "1. Handling arbitrary request sequences: An application can make an arbitrary sequence of allocate and free requests, subhect to the constraint that the free request mut correspond to a currently allocated block obtained from a previous request. The allocator cannot make assumptions about allocate and free requests.  \n",
    "2. Making immediate responses to requests: The allocator must respond immediately to allocate requests. The allocator is not allowed to reorder or buffer requests to improve performance\n",
    "3. Using only the heap: In order for the allocator to be scalable, any nonscalar data structures used by the allocator must be stored in the heap\n",
    "4. Aligning Blovks: The allocator must align blocks such that they can hold any type of data object.\n",
    "5. Not modifying allocated blocks: Allocators can only manipulate or change free blocks."
   ]
  },
  {
   "cell_type": "markdown",
   "metadata": {},
   "source": [
    "## 9.9.4 Fragmentation"
   ]
  },
  {
   "cell_type": "markdown",
   "metadata": {},
   "source": [
    "There are two forms of fragmentation:\n",
    "1. Internal fragmentation: When an allocated block is bigger than the payload.\n",
    "2. External fragmentation occurs when there is enough free memory to satisfy a request, but there is not a big enough block to handle the request"
   ]
  },
  {
   "cell_type": "markdown",
   "metadata": {},
   "source": [
    "## 9.9.5 Implementation issues\n"
   ]
  },
  {
   "cell_type": "markdown",
   "metadata": {},
   "source": [
    "Simplest allovator organizes the heap as a large array of bytes and a pointer that points to the first byte in the array.  \n",
    "A practical allocator does free block organization, placement, splitting, coalescing"
   ]
  },
  {
   "cell_type": "markdown",
   "metadata": {},
   "source": [
    "## 9.96 Implicit free lists"
   ]
  },
  {
   "cell_type": "markdown",
   "metadata": {},
   "source": [
    "A block consists of a header that encodes the block size and whether the block is allocated or free. The header is followed by the payload of data. We can organize the heap as a sequence of free and allocated blocks. This organization is an implicit free list, since the free blocks are linked implicitly by the size fields in the headers. The allocator can traverse the entire set of free blocks by traversing all the blocks in the heap. We need a specially marked end blocck to stop traversal.  "
   ]
  },
  {
   "cell_type": "markdown",
   "metadata": {},
   "source": [
    "## 9.9.7 Placing allocated blocks"
   ]
  },
  {
   "cell_type": "markdown",
   "metadata": {},
   "source": [
    "When an application requests a block of bytes, the allocator searches the free list for a block large enough to hold the requested block. There are a couple of placement policies:\n",
    "1. First fit- find the first block available, tends to leave large free blocks at the end, but leaves small free blocks near the beginning\n",
    "2. Next fit- Searches where the previous seach left off, idea is that if we found a fit in some free block last time, we will find a fit in the remained of the time, faster but front of list is littered with small blocks.\n",
    "3. Best fit finds the block with the smallest size that fits."
   ]
  },
  {
   "cell_type": "markdown",
   "metadata": {},
   "source": [
    "## 9.9.8 Splitting Free Blocks"
   ]
  },
  {
   "cell_type": "markdown",
   "metadata": {},
   "source": [
    "When a block is found, and there is less space needed than the block size, placement policy goes into play here, OS can choose to take all of it, which produces internal fragmentation, or they can split the block into two parts, the one used, and a free block."
   ]
  },
  {
   "cell_type": "markdown",
   "metadata": {},
   "source": [
    "## 9.9.9 Getting additional heap memory"
   ]
  },
  {
   "cell_type": "markdown",
   "metadata": {},
   "source": [
    "If the allocator is unable to find a fit, it can merge free blocks, or ask the kernel for additional heap memory, and the allocator transforms the additional memory into a big block."
   ]
  },
  {
   "cell_type": "markdown",
   "metadata": {},
   "source": [
    "## 9.9.10 Coalescing Free Blocks"
   ]
  },
  {
   "cell_type": "markdown",
   "metadata": {},
   "source": [
    "When the allocator frees an allocated block, there might be other free blocks next to it. Failure to coalesce it causes false fragmentation You can either immediately coalesce it (immediate coalescing) or deferred coalescing (doing it later). This is straightforward, check the next free block that and if it is next to it, merge. Check the one before it, if it is next to it, merge, and keep doing it until you can't do it anymore."
   ]
  },
  {
   "cell_type": "markdown",
   "metadata": {},
   "source": [
    "## 9.9.11 Coalescing with boundary tags"
   ]
  },
  {
   "cell_type": "markdown",
   "metadata": {},
   "source": [
    "Boundary tags. Don Knuth is a goddamn genius."
   ]
  },
  {
   "cell_type": "markdown",
   "metadata": {},
   "source": [
    "## 9.9.12 Adding it all together"
   ]
  },
  {
   "cell_type": "markdown",
   "metadata": {},
   "source": [
    "Nothing conceptually new here."
   ]
  },
  {
   "cell_type": "markdown",
   "metadata": {},
   "source": [
    "## 9.9.13 Explicit Free List"
   ]
  },
  {
   "cell_type": "markdown",
   "metadata": {},
   "source": [
    "A better approach to implicit free lists is to organize the free blocks into some form of explicit data structure. Using a doubly linked list reduces first fit allocation time from linearn in the number of blocks to linear in the number of free blocks."
   ]
  },
  {
   "cell_type": "markdown",
   "metadata": {},
   "source": [
    "## 9.9.14 Segregated Free List"
   ]
  },
  {
   "cell_type": "markdown",
   "metadata": {},
   "source": [
    "Maintain multiple free lists, each list holds blocks of the same size."
   ]
  }
 ],
 "metadata": {
  "kernelspec": {
   "display_name": "Python 3",
   "language": "python",
   "name": "python3"
  },
  "language_info": {
   "codemirror_mode": {
    "name": "ipython",
    "version": 3
   },
   "file_extension": ".py",
   "mimetype": "text/x-python",
   "name": "python",
   "nbconvert_exporter": "python",
   "pygments_lexer": "ipython3",
   "version": "3.6.3"
  }
 },
 "nbformat": 4,
 "nbformat_minor": 2
}
