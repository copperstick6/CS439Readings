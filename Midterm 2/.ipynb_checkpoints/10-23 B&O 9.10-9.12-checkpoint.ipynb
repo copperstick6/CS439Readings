{
 "cells": [
  {
   "cell_type": "markdown",
   "metadata": {},
   "source": [
    "# 9.10 Garbage Collection"
   ]
  },
  {
   "cell_type": "markdown",
   "metadata": {},
   "source": [
    "Without an explicit allocator, the programmer doesn't need to free memory. This can lead to garbage accumulating, and then no free memory avaiable to be used. A garbage collector is a dynamic storage allocator that automatically frees allocated blocks that are no longer needed by the program. The process of automatically reclaiming heap space is called garbage collection."
   ]
  },
  {
   "cell_type": "markdown",
   "metadata": {},
   "source": [
    "## 9.10.1 Garbage Collector basics"
   ]
  },
  {
   "cell_type": "markdown",
   "metadata": {},
   "source": [
    "A garbage collector views memory as a directed reeachability graph with root nodes and a set of heap nodes. Each heap node corresponds to an allocated block in the heap. A node is reachable if there exists a directed path from any root node to that node. The unreachable nodes correspond to garbage that can never be used again by the application. The role of the garbage collector is to reclaim the unreachable nodes and free them to return them to the free list.    \n",
    "Some collectors exhibit tight control on how applications can create and use pointers, others cannot maintain exact representations of the reachability graphs, and label some unreachable nodes as reachable. This is called a conservative garbage collector."
   ]
  },
  {
   "cell_type": "markdown",
   "metadata": {},
   "source": [
    "## 9.10.2 Mark&Sweep Collectors"
   ]
  },
  {
   "cell_type": "markdown",
   "metadata": {},
   "source": [
    "The mark sweep garbage collector consists of a mark phase, which marks all reachable and allocated descendants of the roote nodes, followed by a sweep phase, which frees each unmarked allocated block."
   ]
  },
  {
   "cell_type": "markdown",
   "metadata": {},
   "source": [
    "## 9.10.11- 9.12"
   ]
  },
  {
   "cell_type": "markdown",
   "metadata": {},
   "source": [
    "Rest is basically useless."
   ]
  }
 ],
 "metadata": {
  "kernelspec": {
   "display_name": "Python 3",
   "language": "python",
   "name": "python3"
  },
  "language_info": {
   "codemirror_mode": {
    "name": "ipython",
    "version": 3
   },
   "file_extension": ".py",
   "mimetype": "text/x-python",
   "name": "python",
   "nbconvert_exporter": "python",
   "pygments_lexer": "ipython3",
   "version": "3.6.3"
  }
 },
 "nbformat": 4,
 "nbformat_minor": 2
}
