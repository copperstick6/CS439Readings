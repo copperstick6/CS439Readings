{
 "cells": [
  {
   "cell_type": "markdown",
   "metadata": {},
   "source": [
    "# 9/6 Reading B&O 8.0 - 8.1"
   ]
  },
  {
   "cell_type": "markdown",
   "metadata": {},
   "source": [
    "### 8.0 Exceptional Control Flow"
   ]
  },
  {
   "cell_type": "markdown",
   "metadata": {},
   "source": [
    "From the moment the computer is turned on, the PC assumes a sequence of adresses from a0 to an that points to an instruction. Each move from ak to ak+1 is called a control transfer. A sequence of these moves is called the control flow of a processor."
   ]
  },
  {
   "cell_type": "markdown",
   "metadata": {},
   "source": [
    "The simplest kind of control flow is a **smooth sequence** where the addresses are right next to each other. Changes to the control flow occur due to jumps, calls, and returns. These mechanisms are necessary to allow the program to react to changes in the internal program state represented by program variables. There are also lots of other changes in system state that must be handled, such as network packets, hardware timers, etc. etc."
   ]
  },
  {
   "cell_type": "markdown",
   "metadata": {},
   "source": [
    "Modern systems react to these changes by making abrupt changes to the control flow, these changes are called exceptional control flows (ECF)."
   ]
  },
  {
   "cell_type": "markdown",
   "metadata": {},
   "source": [
    "Understanding ECF is important in that it will help you understance important system concepts, how applications interact with the operating system, write interesting application programs, understand concurrency, how software exceptions work, and many others."
   ]
  },
  {
   "cell_type": "markdown",
   "metadata": {},
   "source": [
    "## 8.1 Exceptions"
   ]
  },
  {
   "cell_type": "markdown",
   "metadata": {},
   "source": [
    "Exceptions are a form of ECF partially implemented by the OS and hardware, so the details are different from system to system, but the idea is the same.  \n",
    "An exception is an abrupt change in resopnse to some change in the processor state.  \n",
    "For example, the processor is executing the current instruction when a significant change in the processor state occurs.  \n",
    "This state is encoded in various bits and signals inside the processor. The change is called an event. The event might be related to the execution of the current instruction. When the processor detects that an event has occurred, it makes an indirect procedural call (the exception) through a jump table called the exception table, to an OS subroutine (the exception handler) that is designed to process this event. When the exception handler finishes processing, one of three things could happen.   \n",
    "1. The handler returns control to the current instruction.  \n",
    "2. The handler returns control to the next instruction, which would have been executed had the exception not occurred.  \n",
    "3. The handler aborts the program"
   ]
  },
  {
   "cell_type": "markdown",
   "metadata": {},
   "source": [
    "### 8.1.1 Exception Handling"
   ]
  },
  {
   "cell_type": "markdown",
   "metadata": {},
   "source": [
    "Each type of exception is assigned a unique nonnegative exception number. Some of these number are assigned by designers of the processor, and others are assigned by the designers of the OS kernel.   \n",
    "At system boot, the OS allocates and initializes an exception table.  \n",
    "At runtime, the processor detects that an event has occurred and determines the exception number. The processor then triggers the exception by making a call to exception number in the exception table. The exception number is an index in the exception table, whose starting address is located in a CPU register called the exception table base register. "
   ]
  },
  {
   "cell_type": "markdown",
   "metadata": {},
   "source": [
    "An exception is similar to a procedure call, but with several differences:   \n",
    "1. Just like any other procedural call, the processor pushes a return address on the stack, but this can either be the current instruction or the next instruction.  \n",
    "2. The processor also pushes the processor state onto the stack that will be necessary to restart the interrupted program.  \n",
    "3. When control is being transferred from a user program to the kernel, all the items are pushed onto the kernel stack rather than the user stack.  \n",
    "4. Exception handlers run in kernel mode, which means they have complete access to all system resources."
   ]
  },
  {
   "cell_type": "markdown",
   "metadata": {},
   "source": [
    "Once the handler triggers the exception, the rest of the work is done in software by the exception handler. After the handler has processed the event, it can return to the program by executing a return from interrupt instruction, which restores the state to the user mode (returns the state prior to the exception to the machine registers, etc) if the exception interrupted a user program and then returns control to the interrupted program."
   ]
  },
  {
   "cell_type": "markdown",
   "metadata": {},
   "source": [
    "### 8.1.2 Classes of Exceptions"
   ]
  },
  {
   "cell_type": "markdown",
   "metadata": {},
   "source": [
    "Exceptions can be divided into four classes: interrupts, traps, faults, and aborts."
   ]
  },
  {
   "cell_type": "markdown",
   "metadata": {},
   "source": [
    "#### Interrupts"
   ]
  },
  {
   "cell_type": "markdown",
   "metadata": {},
   "source": [
    "**Cause: Signal from I/O device  \n",
    "Return Behavior: Always return to next instruction**  \n",
    "Interrupts occur asynchronosly as a result of signals from I/O devices that are external to the processor. Hardware interrupts are asynchronous (not caused by the execution of any particular instruction). Exception handlers for hardware interrupts are called interrupt handlers.    \n",
    "After the current instruction finishes executing, the processor notices that the interrupt pin has gone high, reads the exception number, and then calls the interrupt handler. When the handler returns, control is returned to the next instruction. The effect is that the program continues executing as if the interrupt had not happened. The rest of the exceptions are synchronous due to the current instruction. This instruction is also called the faulting instruction."
   ]
  },
  {
   "cell_type": "markdown",
   "metadata": {},
   "source": [
    "#### Trap and System Calls"
   ]
  },
  {
   "cell_type": "markdown",
   "metadata": {},
   "source": [
    "**Cause: Intentional Exception   \n",
    "Return Behavior: Always returns to the next instruction**  \n",
    "Traps are intentional exception that occur as a result of an instruction exception. The most important use of a trap is to provide an interface between user programs and the kernel. This is called a **system call**.   \n",
    "User programs often need to request services from the kernel. To allow controlled access to kernel services, processors provide syscall instructions for a specific service that user programs can execute. Executing the syscall instruction causes a trap that decodes the argument and calls the appropriate kernel routine."
   ]
  },
  {
   "cell_type": "markdown",
   "metadata": {},
   "source": [
    "Syscalls may seem similar to functions, but functions run in user mode, which restricts the type of instructions that can be executed, but a syscall runs in kernel mode which allows priveleged access."
   ]
  },
  {
   "cell_type": "markdown",
   "metadata": {},
   "source": [
    "#### Faults"
   ]
  },
  {
   "cell_type": "markdown",
   "metadata": {},
   "source": [
    "**Cause: Potentially recoverable error   \n",
    "Return behavior: Might return to current instruction**  \n",
    "Faults result from error conditions the handler might be able to correct. When a fault occurs, the processor transfers control to the fault handler, and if the handler is able to correct the error condition, it returns control to the faulting instruction, reexecuting it. Otherwise, the handler aborts, terminating the application program."
   ]
  },
  {
   "cell_type": "markdown",
   "metadata": {},
   "source": [
    "#### Aborts"
   ]
  },
  {
   "cell_type": "markdown",
   "metadata": {},
   "source": [
    "**Cause: Nonrecoverable error   \n",
    "Return behavior: Never returns**  \n",
    "Aborts result from unrecoverable fatal error, typically when DRAM or SRAM bits are corrupted. Aborts cause an abort routine that terminate an application program.  "
   ]
  },
  {
   "cell_type": "markdown",
   "metadata": {},
   "source": [
    "### 8.1.3 Exceptions in Linux/x86-64 systems"
   ]
  },
  {
   "cell_type": "markdown",
   "metadata": {},
   "source": [
    "Faults and aborts: \n",
    "1. Divide error (divide by zero error or too big, normally floating exceptions)  \n",
    "2. General Protection fault: occurs usually because program references an undefined area of memory or if the program references an undefined area of virtual memory or because the program writes to a read only segment. Linux reports this as a seg fault   \n",
    "3. Page fault: Exception where the faulting instruction is restarted. Handler maps a page of virtual memory on disk into a page of physical memory and restarts the instruction   \n",
    "4. Machine check: fatal hardware error that is detected during execution of faulting instruction, never returns to program\n"
   ]
  },
  {
   "cell_type": "markdown",
   "metadata": {},
   "source": [
    "Syscalls: \n",
    "C programs can invoke system calls using the syscall function. The c standard library provides wrapper functions for most systemcalls. These wrapper functions package the arguments, trap the kernel with the system call and then passes the return status of the system call back to the calling program. These wrapper functions will be referred to as suystem level functions."
   ]
  }
 ],
 "metadata": {
  "kernelspec": {
   "display_name": "Python 3",
   "language": "python",
   "name": "python3"
  },
  "language_info": {
   "codemirror_mode": {
    "name": "ipython",
    "version": 3
   },
   "file_extension": ".py",
   "mimetype": "text/x-python",
   "name": "python",
   "nbconvert_exporter": "python",
   "pygments_lexer": "ipython3",
   "version": "3.6.0"
  }
 },
 "nbformat": 4,
 "nbformat_minor": 2
}
