{
 "cells": [
  {
   "cell_type": "markdown",
   "metadata": {},
   "source": [
    "# History of OS"
   ]
  },
  {
   "cell_type": "markdown",
   "metadata": {},
   "source": [
    "## Phase 1: Expensive Hardware, Cheap Humans"
   ]
  },
  {
   "cell_type": "markdown",
   "metadata": {},
   "source": [
    "One user on the console, and one process at a time.  \n",
    "Single user system, OS is a subroutine library (pull off common code used by everyone, like a library) and a loader.  \n",
    "Problem: Low utilization of expensive components"
   ]
  },
  {
   "cell_type": "markdown",
   "metadata": {},
   "source": [
    "Batch Processing: Load program, run output to tape, print results, repeat.  \n",
    "Users give their programs on punch cards to schedule jobs in batches.  \n",
    "Each batch is input into a card reader and output on tape.  \n",
    "Tape is carried to CPU machine and the OS on CPU loads each job in the batch from the tape, runs, and writes any output to another tape.  \n",
    "Advantage: Next job can be laoded immediately after one finishes   \n",
    "Disadvantages: No protection, buggy program can crash the batch monitor, computer is idle during I/O."
   ]
  },
  {
   "cell_type": "markdown",
   "metadata": {},
   "source": [
    "Overlap of I/O and computation, interrupts   \n",
    "OS requests I/O, goes bacl to computation and interrupts when I/O finishes    \n",
    "No sharing, only protects OS from applications  \n",
    "Adds concurrency within the same process   \n",
    "Buffering and interrupt handling in the OS has to be implemented    \n",
    "Performance improves because I/O and processing happen concurrently"
   ]
  },
  {
   "cell_type": "markdown",
   "metadata": {},
   "source": [
    "Multiprogramming- several programs run at the same time sharing the machine.  \n",
    "One job runs until it performs I/O, then another job gets the CPU  \n",
    "OS manages interaction between concurrent programs, i.e. which ones start and execute, ensures protection.  \n",
    "Requires memory protection and relocation"
   ]
  },
  {
   "cell_type": "markdown",
   "metadata": {},
   "source": [
    "## Phase 2: Cheap hardware, expensive humans"
   ]
  },
  {
   "cell_type": "markdown",
   "metadata": {},
   "source": [
    "Interactive timesharing- use terminals to allow multiple users to interact with the system at the same time.  \n",
    "Because of this, debugging is a lot easier, and process switching occurs more often.  \n",
    "Reqiures more sharing, protections, and concurrency.  \n",
    "New OS services and problems"
   ]
  },
  {
   "cell_type": "markdown",
   "metadata": {},
   "source": [
    "## Phase 3: Very cheap hardware, very expensive humans"
   ]
  },
  {
   "cell_type": "markdown",
   "metadata": {},
   "source": [
    "Personal computing   \n",
    "Computers are cheap, so give everyone a computer   \n",
    "Simplify OS by eliminating multiprogramming, concurrency, and protection.  \n",
    "A subroutine library again!  \n",
    "Humans are expensive so don't let programs crash into each other"
   ]
  },
  {
   "cell_type": "markdown",
   "metadata": {},
   "source": [
    "Parallel and Distributed Computing  \n",
    "Computers are so cheap, so give people a lot of them  \n",
    "In parallel systems, multiple processors ar in the same machine, sharing mempry, I/O   \n",
    "In distributed systems, multiple processors communicate via a network   \n",
    "Increased performance, increased reliability, sharing of specialized resources"
   ]
  },
  {
   "cell_type": "markdown",
   "metadata": {},
   "source": [
    "## Dual Mode Execution and some Processes"
   ]
  },
  {
   "cell_type": "markdown",
   "metadata": {},
   "source": [
    "OS has three interfaces- AMI, API, and HAL . \n",
    "1. AMI- Abstract Machine Interface, connection between OS and apps\n",
    "2. API- Application programming Interface, function calls provided to apps\n",
    "3. HAL- Hardware Abstraction layer, abstracts hardware internally to the OS"
   ]
  },
  {
   "cell_type": "markdown",
   "metadata": {},
   "source": [
    "Process is an abstraction for protection, represents an application program executing with restricted rights. Restricting rights must not hinder functionality.  \n",
    "Process is a program during execution, and is the basic unit of execution.  \n",
    "process = execution program = execution state + program   \n",
    "Different programs can run different instances of the same program  \n",
    "Process execution requires at a minimum: memory to contain program code and data, set of CPU registers to support execution"
   ]
  },
  {
   "cell_type": "markdown",
   "metadata": {},
   "source": [
    "OS can enforce restricted rights by interpreting each instruction, which is really slow.  \n",
    "Otherwise, the OS can have two modes, user and kernel mode, which is supported by the hardware (Mode bit)."
   ]
  },
  {
   "cell_type": "markdown",
   "metadata": {},
   "source": [
    "User processes may not access I/O directly, use instructions to manipulate OS memory, set the mode bit, disable and enable interrupts, halt the machine.  \n",
    "In kernel mode, the OS is able to do all of these things."
   ]
  },
  {
   "cell_type": "markdown",
   "metadata": {},
   "source": [
    "In order to transfer from User to kernel mode, the user can do one of three things.\n",
    "1. Exceptions: User program does something stupid, which may or may not crash the system\n",
    "2. Interrupts: Some other interrupt outside of the currently running process\n",
    "3. System calls/Traps- way in which user can request certain OS services"
   ]
  },
  {
   "cell_type": "markdown",
   "metadata": {},
   "source": [
    "How these work:\n",
    "1. Exception/Syscall/Interrupt happens\n",
    "2.  Process switches to kernel mode, execption code is passed to exception table, table lookup occurs\n",
    "3. Action occurs.\n",
    "4. Process switches back to user mode after action has completed."
   ]
  },
  {
   "cell_type": "markdown",
   "metadata": {},
   "source": [
    "### Saving the state of the Interrupted Process"
   ]
  },
  {
   "cell_type": "markdown",
   "metadata": {},
   "source": [
    "Priveleged hw register points to the exception stack, on switch, hw pushes interrupted process registers onthe exceptino stack before handler runs, then the handler pushes the rest of the data, and on return, we pop the data back into the stack.  \n",
    "We don't use the user level stack, as if the user stack points to an invalid address, handlers continue to work, and kernel state should not be stored in the user state."
   ]
  },
  {
   "cell_type": "markdown",
   "metadata": {},
   "source": [
    "### Syscalls: How they work"
   ]
  },
  {
   "cell_type": "markdown",
   "metadata": {},
   "source": [
    "1. User process executes a trap instruction\n",
    "2. Hardware calls the OS at the system call handler, at a specified location\n",
    "3. OS then identifies the service, executes the service, sets the register to contain the result of the call, returns the data to the user program\n",
    "4. User program receives result and continues"
   ]
  },
  {
   "cell_type": "markdown",
   "metadata": {},
   "source": [
    "From an interrupt, just reverse all steps\n",
    "From an exception and system call, we need to increment PC, since we don't want to rerun that same instruction."
   ]
  }
 ],
 "metadata": {
  "kernelspec": {
   "display_name": "Python 3",
   "language": "python",
   "name": "python3"
  },
  "language_info": {
   "codemirror_mode": {
    "name": "ipython",
    "version": 3
   },
   "file_extension": ".py",
   "mimetype": "text/x-python",
   "name": "python",
   "nbconvert_exporter": "python",
   "pygments_lexer": "ipython3",
   "version": "3.6.2"
  }
 },
 "nbformat": 4,
 "nbformat_minor": 2
}
