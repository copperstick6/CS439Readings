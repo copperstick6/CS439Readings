{
 "cells": [
  {
   "cell_type": "markdown",
   "metadata": {},
   "source": [
    "Atomic operation- operation that is uninterruptible  \n",
    "Synchronization- using atomic operations to ensure cooperation between threads   \n",
    "Mutual exclusion- exactly one thread is doing a particulat activity at a time   \n",
    "Critical Section- a piece of code that only one thread can execute at a time"
   ]
  },
  {
   "cell_type": "markdown",
   "metadata": {},
   "source": [
    "1. Safety - only one thread in the critical section\n",
    "2. Liveness - If no threads are executing a critical section, and a thread wishes to enter a cvritical section, that thread must be guaranteed to eventually enter the crtitical section \n",
    "3. Bounded Waiting - If a thread wishes to enter a critical section,then there existsa a bound on the number of other threads that may enter the critical section before that thread does\n",
    "4. Failure atomicity - it's okay for a thread to die in the critical section"
   ]
  },
  {
   "cell_type": "markdown",
   "metadata": {},
   "source": [
    "Safety- nothing bad happens  \n",
    "liveness - something good eventually happens\n",
    "mutual exclusion- exactly onet thread or process is doing a particular activity at a time "
   ]
  },
  {
   "cell_type": "markdown",
   "metadata": {},
   "source": [
    "Lock allows one thread to prevent another thread from doing something.  \n",
    "Lock before entering a critical section or before accessing shared data, unlock when leaving a critical section or when access to shared data is complete.  \n",
    "Wait if locked."
   ]
  },
  {
   "cell_type": "markdown",
   "metadata": {},
   "source": [
    "Locks provide mutual exclusion to shared data with two atomic routines: \n",
    "Lock::Acquire: wait until lock is free, then grab it  \n",
    "Lock::Release: unlock and wake up any thread waiting in acquire.  \n",
    "Locks have two states: busy and free"
   ]
  },
  {
   "cell_type": "markdown",
   "metadata": {},
   "source": [
    "Semaphores offer elegant solutions to synchronization problems  \n",
    "They are generalized locks, support two atomic operations, has a value but the value has more options than busy/free.  \n",
    "Supports a queue of threads waiting to access a resource"
   ]
  },
  {
   "cell_type": "markdown",
   "metadata": {},
   "source": [
    "Binary Semaphore- same as lock, guarantees mutually exclusive access to a resource, initial value is always 1.  \n",
    "Counted semaphore- represeants a resouces with many units available, initial count is typically the number of resources, allows a thread to continue as long as more instances are available"
   ]
  },
  {
   "cell_type": "markdown",
   "metadata": {},
   "source": [
    "Use semaphores when:\n",
    "1. Mutual Exclusion\n",
    "2. Control access to a pool of resources\n",
    "3. General synchronizaation  \n",
    "\n",
    "Three purposes:  \n",
    "1. To ensure mutually exclusive execution of a critical section\n",
    "2. To control access to a shared pool of resources\n",
    "3. To cause one thread to wait for a specific event\n",
    "4. No busy wait"
   ]
  },
  {
   "cell_type": "markdown",
   "metadata": {},
   "source": [
    "Problem with semaphores:\n",
    "1. Shared global variables\n",
    "2. Too many purposes\n",
    "3. No control or guarantee of proper usage\n",
    "4. Difficlt to read and develop code\n",
    "5. Often studied for history"
   ]
  }
 ],
 "metadata": {
  "kernelspec": {
   "display_name": "Python 3",
   "language": "python",
   "name": "python3"
  },
  "language_info": {
   "codemirror_mode": {
    "name": "ipython",
    "version": 3
   },
   "file_extension": ".py",
   "mimetype": "text/x-python",
   "name": "python",
   "nbconvert_exporter": "python",
   "pygments_lexer": "ipython3",
   "version": "3.6.2"
  }
 },
 "nbformat": 4,
 "nbformat_minor": 2
}
