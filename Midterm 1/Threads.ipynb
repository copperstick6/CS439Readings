{
 "cells": [
  {
   "cell_type": "markdown",
   "metadata": {
    "collapsed": true
   },
   "source": [
    "Thread represents an abstract entity that executes a sequence of instructions, short for thread of control.  \n",
    "Defines a single sequential stream of execution within a process.  \n",
    "A thread is bound to a single process.  \n",
    "Each process may have multiple threads of control"
   ]
  },
  {
   "cell_type": "markdown",
   "metadata": {},
   "source": [
    "Programmers create multithreaded programs to better represent structure of tasks, and improve performance, one thread can perform computation while another waits for I/O, threads may be scheduled across different processors in a multi processor architectre"
   ]
  },
  {
   "cell_type": "markdown",
   "metadata": {},
   "source": [
    "Threads, like processes go through a sequence of new, ready, running, blocking, and terminated"
   ]
  },
  {
   "cell_type": "markdown",
   "metadata": {},
   "source": [
    "Processes define an address space, threads share the address space.  \n",
    "Each thread has its own stack, exclusive use of CPU reigsters while it is executing.  \n",
    "Each thread does not have its own address space.  \n",
    "Creating a thread is cheaper than creating a process, communication between threads is easier than between processes, and context switching between threads is cheaper (same address space)"
   ]
  },
  {
   "cell_type": "markdown",
   "metadata": {},
   "source": [
    "Threads within a single process share the address space, all process data can be accessed by any thread, heap is shared, global data is shared.  \n",
    "Threads have their own stacks, but there is no protection.  \n",
    "A thread has exclusive use of the registers while it is executed.  \n",
    "When a thread is preempted, its register values are saved as a part of it state."
   ]
  },
  {
   "cell_type": "markdown",
   "metadata": {},
   "source": [
    "PCB (Process control block)- contains process specific information, owner PID, heap pointer, priority, active thread, pointers to thread information.  \n",
    "TCB- containts thread specific information, stack pointer, PC, thread state, register state, pointer to PCB"
   ]
  },
  {
   "cell_type": "markdown",
   "metadata": {},
   "source": [
    "Kernel level thread is a thread that the OS knows about, every process has at least one kernel level thread, kernel manages and schedules threads, system calls used to create, destroy, and synchronize threads . \n",
    "Switching between kernel level threads of the same process requires a small context switch.  \n",
    "Values of registers, PC, and stack counter must be switches.  \n",
    "Memory management information remains since threads share a common address space"
   ]
  },
  {
   "cell_type": "markdown",
   "metadata": {},
   "source": [
    "Context switches between threads of the same process:  \n",
    "1. Thread is running\n",
    "2. Thread blocks, is interrupted, or yields\n",
    "3. Mode switches to kernel mode\n",
    "4. OS saves thread state to TCB\n",
    "5. OS chooses new thread to run\n",
    "6. OS code loads its state from TCB\n",
    "7. Mode switch to user mode\n",
    "8. Thread is running\n"
   ]
  },
  {
   "cell_type": "markdown",
   "metadata": {},
   "source": [
    "Use kernel threads, because the OS can choose another thread in the same process when a thread does I/O   \n",
    "Kernel level threads can exploit parallelism   "
   ]
  },
  {
   "cell_type": "markdown",
   "metadata": {},
   "source": [
    "User level thread is a thread that the OS does not know about.  \n",
    "OS only schedules the process not the threads within a process.  \n",
    "Programmer uses a thread library to manage threads, user level code can define scheduling policy, threads yield to other threads or voluntarily give up the processor, switching threads does not involve a context switch"
   ]
  },
  {
   "cell_type": "markdown",
   "metadata": {},
   "source": [
    "User level thread context switch:\n",
    "1. Thread is running\n",
    "2. Thread is interrupted by a signal or voluntarily yields\n",
    "3. Library code saves thread state to TCB\n",
    "4. Library chooses a new thread to run\n",
    "5. Library loads its state from the TCB\n",
    "6. Thread is running"
   ]
  }
 ],
 "metadata": {
  "kernelspec": {
   "display_name": "Python 3",
   "language": "python",
   "name": "python3"
  },
  "language_info": {
   "codemirror_mode": {
    "name": "ipython",
    "version": 3
   },
   "file_extension": ".py",
   "mimetype": "text/x-python",
   "name": "python",
   "nbconvert_exporter": "python",
   "pygments_lexer": "ipython3",
   "version": "3.6.2"
  }
 },
 "nbformat": 4,
 "nbformat_minor": 2
}
