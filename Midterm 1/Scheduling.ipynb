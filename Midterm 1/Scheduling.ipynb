{
 "cells": [
  {
   "cell_type": "markdown",
   "metadata": {},
   "source": [
    "Booting an OS kernel:  \n",
    "1. CPU loads boot program into ROM\n",
    "2. Boot program examine/checks machine configuration, builds a configuration structure for hardware, loads OS kernel and give it configuration structure.  \n",
    "3. Operating system initialization: initialize kernel data structures, state of all hardware devices, create a number of processes to start operation\n",
    "4. After basic processes have started, OS runs user programs, otherwise enters idle loop, performs some system management and profiling. OS wakes up on interrupts from hardware devices."
   ]
  },
  {
   "cell_type": "markdown",
   "metadata": {},
   "source": [
    "Scheduler schedules next process on CPU, it is the mechanism and it implements a policy.  \n",
    "The scheduler might execute when a process switches from running to blocked, a process is created or terminates, an interrupt occurs."
   ]
  },
  {
   "cell_type": "markdown",
   "metadata": {},
   "source": [
    "Two categories of scheduling algorithms: Non-preemptive, executing process is never preempted, scheduler runs when process blocks or terminates, not on hardware interrupts.  \n",
    "preemptive: Executing process might be preempted from the CPU, scheduler runs on interrupts, mostly timer, but also system calls and other hardware device interrupts"
   ]
  },
  {
   "cell_type": "markdown",
   "metadata": {},
   "source": [
    "Evaluating scheduling policies:\n",
    "1. CPU Utilization: Percentage of time CPU is busy\n",
    "2. Throughput: Number of processes completeing in a unit of time\n",
    "3. Turnaround time: length of time to run a process from initialization to termination\n",
    "4. Response time: time between issuing command and getting a result\n",
    "5. Waiting time: total amount of time that a process is in the ready queue"
   ]
  },
  {
   "cell_type": "markdown",
   "metadata": {},
   "source": [
    "Ideal CPU scheduler: Maximizes CPU utilization and throughput, minimizes turnaround time, waiting time, and response time, which requires knowledge of process behavior we typically don't have.  "
   ]
  },
  {
   "cell_type": "markdown",
   "metadata": {},
   "source": [
    "FCFS- Scheduler executes jobs in arrival order, jobs run until they either complete or block on I/O"
   ]
  },
  {
   "cell_type": "markdown",
   "metadata": {},
   "source": [
    "Round Robin- Adds a timer and uses a preemptive policy, runs each process for its time slice, after each time slice, moves the running process to the back of the queue.  \n",
    "If a time slice is too large, waiting time suffers.  \n",
    "If a time slice it too small, too much time is spend on context switches"
   ]
  },
  {
   "cell_type": "markdown",
   "metadata": {},
   "source": [
    "Context Switching- switching from one process to another\n",
    "1. Switch to kernel mode\n",
    "2. Save current process data to its PCB\n",
    "3. Load next program's data on PCB\n",
    "4. Switch to user mode"
   ]
  },
  {
   "cell_type": "markdown",
   "metadata": {},
   "source": [
    "SJF- schedule the job that has the least amount of work. This policy is adaptive, because it relies on past behavior and changes in behavior result in changes to scheduling decisions."
   ]
  },
  {
   "cell_type": "markdown",
   "metadata": {},
   "source": [
    "MLFQ- Multiple queues with different priorities, OS uses round robin scheduling at each level, running the jobs in the highest priority queue first.  \n",
    "Can lead to starvation if highest priority jobs run forever."
   ]
  }
 ],
 "metadata": {
  "kernelspec": {
   "display_name": "Python 3",
   "language": "python",
   "name": "python3"
  },
  "language_info": {
   "codemirror_mode": {
    "name": "ipython",
    "version": 3
   },
   "file_extension": ".py",
   "mimetype": "text/x-python",
   "name": "python",
   "nbconvert_exporter": "python",
   "pygments_lexer": "ipython3",
   "version": "3.6.0"
  }
 },
 "nbformat": 4,
 "nbformat_minor": 2
}
